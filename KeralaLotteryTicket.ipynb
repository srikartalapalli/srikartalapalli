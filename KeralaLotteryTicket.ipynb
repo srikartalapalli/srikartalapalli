{
 "cells": [
  {
   "cell_type": "code",
   "execution_count": 1,
   "metadata": {},
   "outputs": [
    {
     "name": "stdout",
     "output_type": "stream",
     "text": [
      "First Prize is 9934\n",
      "Second Prize is 7511\n",
      "Second Prize is 7913\n",
      "Third Prize is 5117\n",
      "Third Prize is 5305\n",
      "Third Prize is 5032\n",
      "Fourth Prize is 3544\n",
      "Fourth Prize is 3980\n",
      "Fourth Prize is 3057\n",
      "Fourth Prize is 3813\n",
      "Fifth Prize is 1523\n",
      "Fifth Prize is 1534\n",
      "Fifth Prize is 1357\n",
      "Fifth Prize is 1773\n",
      "Fifth Prize is 1253\n"
     ]
    }
   ],
   "source": [
    "#First Method\n",
    "import random\n",
    "def firstprize():\n",
    "    for i in range(0,1):\n",
    "        first_prize = random.randint(9000, 10000)\n",
    "        print(\"First Prize is\", first_prize)\n",
    "def secondprize():\n",
    "    for i in range(0,2):\n",
    "        second_prize = random.randint(7000, 8000)\n",
    "        print(\"Second Prize is\", second_prize)\n",
    "\n",
    "def thirdprize():\n",
    "    for i in range(0,3):\n",
    "        third_prize = random.randint(5000, 6000)\n",
    "        print(\"Third Prize is\", third_prize)\n",
    "\n",
    "def fourthprize():    \n",
    "    for i in range(0,4):\n",
    "        fourth_prize = random.randint(3000, 4000)\n",
    "        print(\"Fourth Prize is\", fourth_prize)\n",
    "\n",
    "def fifthprize():\n",
    "    for i in range(0,5):\n",
    "        fifth_prize = random.randint(1000, 2000)\n",
    "        print(\"Fifth Prize is\", fifth_prize)\n",
    "        \n",
    "firstprize()\n",
    "secondprize()\n",
    "thirdprize()\n",
    "fourthprize()\n",
    "fifthprize()"
   ]
  },
  {
   "cell_type": "code",
   "execution_count": 8,
   "metadata": {},
   "outputs": [
    {
     "name": "stdout",
     "output_type": "stream",
     "text": [
      "Today's lottery numbers are:\n",
      "[124, 544, 617, 680, 790, 960]\n",
      "Bad Luck! You are not a winner. Best of luck next time!\n"
     ]
    }
   ],
   "source": [
    "#Second Method\n",
    "import random\n",
    "participants_lottery_number = input(\"Please enter the number on your lottery ticket: \")\n",
    "participants = str(input(\"Enter your name: \"))\n",
    "\n",
    "winning_lottery_numbers = []\n",
    "for i in range (0,6):\n",
    "  number = random.randint(1,1000)\n",
    "  while number in winning_lottery_numbers:\n",
    "    number = random.randint(1,50)\n",
    "  winning_lottery_numbers.append(number)\n",
    "winning_lottery_numbers.sort()\n",
    "print(\"Today's lottery numbers are:\") \n",
    "print(winning_lottery_numbers)\n",
    "if 'participants_lottery_number' == winning_lottery_numbers:\n",
    "    print(\"Your number is a WINNER!!!\")\n",
    "    print(\"Your prize is \", randint(5000, 10000))\n",
    "else:\n",
    "    print(\"Bad Luck! You are not a winner. Best of luck next time!\")"
   ]
  },
  {
   "cell_type": "code",
   "execution_count": null,
   "metadata": {},
   "outputs": [],
   "source": [
    "#change to function"
   ]
  },
  {
   "cell_type": "code",
   "execution_count": null,
   "metadata": {},
   "outputs": [],
   "source": []
  },
  {
   "cell_type": "code",
   "execution_count": null,
   "metadata": {},
   "outputs": [],
   "source": []
  },
  {
   "cell_type": "code",
   "execution_count": null,
   "metadata": {},
   "outputs": [],
   "source": []
  },
  {
   "cell_type": "code",
   "execution_count": null,
   "metadata": {},
   "outputs": [],
   "source": []
  },
  {
   "cell_type": "code",
   "execution_count": null,
   "metadata": {},
   "outputs": [],
   "source": []
  },
  {
   "cell_type": "code",
   "execution_count": null,
   "metadata": {},
   "outputs": [],
   "source": []
  },
  {
   "cell_type": "code",
   "execution_count": null,
   "metadata": {},
   "outputs": [],
   "source": []
  },
  {
   "cell_type": "code",
   "execution_count": null,
   "metadata": {},
   "outputs": [],
   "source": []
  }
 ],
 "metadata": {
  "interpreter": {
   "hash": "1ae370dfb2ebab6e56c1714cf4759a592a5a114318b075cd49b733651b932224"
  },
  "kernelspec": {
   "display_name": "Python 3",
   "language": "python",
   "name": "python3"
  },
  "language_info": {
   "codemirror_mode": {
    "name": "ipython",
    "version": 3
   },
   "file_extension": ".py",
   "mimetype": "text/x-python",
   "name": "python",
   "nbconvert_exporter": "python",
   "pygments_lexer": "ipython3",
   "version": "3.8.8"
  }
 },
 "nbformat": 4,
 "nbformat_minor": 2
}
